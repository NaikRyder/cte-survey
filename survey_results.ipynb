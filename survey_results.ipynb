{
  "nbformat": 4,
  "nbformat_minor": 0,
  "metadata": {
    "colab": {
      "provenance": [],
      "authorship_tag": "ABX9TyOp0cGtaP/ikSjdBZ1ol6p4"
    },
    "kernelspec": {
      "name": "python3",
      "display_name": "Python 3"
    },
    "language_info": {
      "name": "python"
    }
  },
  "cells": [
    {
      "cell_type": "code",
      "source": [
        "import pandas as pd\n",
        "from google.colab import drive\n",
        "drive.mount('/content/drive')"
      ],
      "metadata": {
        "id": "MEg7zdp1Jmh9",
        "colab": {
          "base_uri": "https://localhost:8080/"
        },
        "outputId": "9af2c186-efb6-4e1f-ffbd-5f563b35a8a3"
      },
      "execution_count": 59,
      "outputs": [
        {
          "output_type": "stream",
          "name": "stdout",
          "text": [
            "Drive already mounted at /content/drive; to attempt to forcibly remount, call drive.mount(\"/content/drive\", force_remount=True).\n"
          ]
        }
      ]
    },
    {
      "cell_type": "code",
      "source": [
        "################# Input Layer #################\n",
        "\n",
        "# Read Excel workbooks from gdrive\n",
        "\n",
        "#Survey raw data\n",
        "file_id=\"1hJx2HCXsx5z4my6LXsSgiSFjGURezfm43OXndplWPw4\"\n",
        "workbook_results=pd.ExcelFile(f\"https://docs.google.com/spreadsheets/d/{file_id}/export?format=xlsx\")\n",
        "\n",
        "#Key file\n",
        "file_id=\"1R-4LQZAWZjHLXs2694YLQoetdNecDv4iwjZNNJwYbFY\"\n",
        "workbook_key=pd.ExcelFile(f\"https://docs.google.com/spreadsheets/d/{file_id}/export?format=xlsx\")\n"
      ],
      "metadata": {
        "id": "AKIXzfbEc5F9"
      },
      "execution_count": 60,
      "outputs": []
    },
    {
      "cell_type": "code",
      "source": [
        "################# Transformation Layer #################\n",
        "\n",
        "# Define Likert Scale values\n",
        "likert_scale = {\n",
        "  \"nan\" : \"\",\n",
        "  \"strongly agree\" : 1,\n",
        "  \"agree\" : 2,\n",
        "  \"somewhat agree\" : 3,\n",
        "  \"neutral\": 4,\n",
        "  \"somewhat disagree\" : 5,\n",
        "  \"disagree\" : 6,\n",
        "  \"strongly disagree\" : 7,\n",
        "  \"true\" : 2,\n",
        "  \"false\" : 6,\n",
        "  \"somewhat true\" : 3,\n",
        "  \"somewhat false\" : 5,\n",
        "  \"definitely true\" : 1,\n",
        "  \"definitely false\" : 7,\n",
        "  \"positively true\" : 1,\n",
        "  \"probably true\" : 3,\n",
        "  \"probably untrue\" : 5,\n",
        "  \"positively untrue\" : 7,\n",
        "  \"completely agree\" : 1,\n",
        "  \"completely disagree\" : 7,\n",
        "  \"agree, somewhat agree\" : 3,\n",
        "  \"strongly agree, agree, somewhat agree, somewhat disagree, disagree, strongly disagree\" : 4\n",
        "}\n",
        "\n",
        "# Define dataframes\n",
        "df_student_key = workbook_key.parse(1)\n",
        "df = {}\n",
        "\n",
        "# Get number of sheets in the workbook and parse into a dataframe array\n",
        "sheet_names = workbook_results.sheet_names\n",
        "sheet_count=len(sheet_names)-1\n",
        "for i in range(0,sheet_count):\n",
        "  df[i]=workbook_results.parse(i)\n",
        "\n",
        "# Data Cleaning\n",
        "df_student_key['Email Address'] = df_student_key['Email Address'].str.lower()\n",
        "\n",
        "for i in range(0,sheet_count):\n",
        "    # Convert Email Address to lower case\n",
        "    df[i]['Email Address'] = df[i]['Email Address'].str.lower()\n",
        "\n",
        "    # Drop duplicate Email Addresses\n",
        "    df[i] = df[i].sort_values('Timestamp').drop_duplicates(['Email Address'], keep='last')\n",
        "\n",
        "    # Drop repeated columns in next tables\n",
        "    df[i] = df[i].drop(['First Name','Last Name', 'Please give your first name and last name initial.', 'Email Address.1'], axis=1, errors='ignore')\n",
        "\n",
        "    # Get object columns\n",
        "    cols = df[i].columns[df[i].dtypes == 'object']\n",
        "\n",
        "    # Check for text columns\n",
        "    for c in cols:\n",
        "\n",
        "      # Convert object values to lower case strings\n",
        "      df[i][c] = df[i][c].astype(str).apply(str.lower)\n",
        "\n",
        "    # Replace string with Likert Scale values\n",
        "    df[i][cols] = df[i][cols].replace(likert_scale)\n",
        "\n",
        "# Left join key with every worksheet\n",
        "for i in range(0,sheet_count):\n",
        "  df[i] = df_student_key.merge(df[i], how='left', on='Email Address')"
      ],
      "metadata": {
        "id": "dlJDxAsJJdIT"
      },
      "execution_count": 61,
      "outputs": []
    },
    {
      "cell_type": "code",
      "source": [
        "################# Output Layer #################\n",
        "\n",
        "# Convert dataframe into a .csv file and save it to gdrive\n",
        "path = '/content/drive/My Drive/Survey Results/survey_data/results_workbook.xlsx'\n",
        "with pd.ExcelWriter(path) as writer:\n",
        "  for i in range(0,sheet_count):\n",
        "    df[i].to_excel(writer, sheet_name=sheet_names[i], index=False)"
      ],
      "metadata": {
        "id": "JQl-X40dzoZJ"
      },
      "execution_count": 62,
      "outputs": []
    },
    {
      "cell_type": "code",
      "source": [
        "################# Transformation Layer 2 #################\n",
        "\n",
        "#Drop repeated columns\n",
        "for i in range(0,sheet_count):\n",
        "  df[i] = df[i].drop(['First Name', 'Last Name', 'Email Address', 'Timestamp'], axis =1)\n",
        "\n",
        "#Merge all sheets into one\n",
        "t_df = pd.DataFrame()\n",
        "for i in range(1,sheet_count):\n",
        "  t_df = pd.merge(df[0],df[i], how='left', on='Student ID')"
      ],
      "metadata": {
        "id": "GI80yfPbZUP6"
      },
      "execution_count": 63,
      "outputs": []
    },
    {
      "cell_type": "code",
      "source": [
        "# Convert dataframe into a .csv file and save it to gdrive\n",
        "path = '/content/drive/My Drive/Survey Results/survey_data/results_sheet.xlsx'\n",
        "with pd.ExcelWriter(path) as writer:\n",
        "  t_df.to_excel(writer,index=False)"
      ],
      "metadata": {
        "id": "2Quge384Zlm5"
      },
      "execution_count": 64,
      "outputs": []
    },
    {
      "cell_type": "code",
      "source": [
        "# Get only numerical data\n",
        "num_df = t_df.iloc[:,0:1]\n",
        "for i in range (1,101):\n",
        "  if (isinstance(t_df.iloc[1][i],float)):\n",
        "    num_df=num_df.join(t_df.iloc[:,i])"
      ],
      "metadata": {
        "id": "kbGDbHUTkdZR"
      },
      "execution_count": 69,
      "outputs": []
    },
    {
      "cell_type": "code",
      "source": [
        "# Convert numerical dataframe into a .csv file and save it to gdrive\n",
        "path = '/content/drive/My Drive/Survey Results/survey_data/num_results_sheet.xlsx'\n",
        "with pd.ExcelWriter(path) as writer:\n",
        "  num_df.to_excel(writer,index=False)"
      ],
      "metadata": {
        "id": "1qlbtfyEarnC"
      },
      "execution_count": 70,
      "outputs": []
    }
  ]
}